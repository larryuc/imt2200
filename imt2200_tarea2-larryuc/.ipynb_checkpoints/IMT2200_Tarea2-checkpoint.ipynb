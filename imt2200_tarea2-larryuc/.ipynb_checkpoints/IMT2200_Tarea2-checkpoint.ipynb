{
 "cells": [
  {
   "cell_type": "markdown",
   "metadata": {},
   "source": [
    "# <img style=\"float: left; padding-right: 0.7cm; width: 3.0cm\" src=\"https://upload.wikimedia.org/wikipedia/commons/thumb/8/84/Escudo_de_la_Pontificia_Universidad_Cat%C3%B3lica_de_Chile.svg/179px-Escudo_de_la_Pontificia_Universidad_Cat%C3%B3lica_de_Chile.svg.png\"> IMT 2200 - Introducción a Ciencia de Datos\n",
    "**Pontificia Universidad Católica de Chile**<br>\n",
    "**Semestre 2021-1**<br>\n",
    "**Profesora:** Paula Aguirre <br>\n",
    "\n",
    "----"
   ]
  },
  {
   "cell_type": "markdown",
   "metadata": {},
   "source": [
    "Tarea 2: Por Larry Uribe - 01-10-2021"
   ]
  },
  {
   "cell_type": "markdown",
   "metadata": {},
   "source": [
    " <h1><center>Tarea 2: Extracción de Datos desde la Web </center></h1>\n",
    "    \n",
    "## Instrucciones Generales.\n",
    "\n",
    "- Fecha de entrega: 1 de octubre de 2021, 23:59.\n",
    "\n",
    "- Vía de entrega: GitHub\n",
    "\n",
    "- Esta Tarea debe desarrollarse de manera totalmente *individual*, de acuerdo a lo establecido en la sección de Integridad Académica en el programa del curso.\n",
    "\n",
    "- La Tarea debe ser desarrollada en lenguaje de programación Python y en formato Jupyter Notebook.\n",
    "\n",
    "- El desarrollo del Notebook debe ser claro y ordenado, incluyendo anotaciones (markdown) y comentarios que permitan seguir fácilmente el código y los pasos implementados, y siguiendo buenas prácticas de programación. La presentación y claridad del notebook y código forman parte de la evaluación de la tarea.\n",
    "\n",
    "- Se sugiere hacer consultas y comentarios sobre la Tarea a traves del Foro del curso en Canvas.\n",
    "\n",
    "\n",
    "## Objetivos de Aprendizaje\n",
    "\n",
    "Esta Tarea tiene como objetivo poner en práctica los contenidos del curso vistos hasta ahora, en especial:\n",
    "- Manejo de librerías `pandas`,`matplotlib`, `requests` y `BeautifulSoup`.\n",
    "- Manejo de datos estructurado y semi-estructurados.\n",
    "- Análisis y comprensión de los elementos fundamentales de APIs y códigos HTML de páginas web. \n",
    "- Extracción de datos de la via API y scrapping sencillo.\n",
    "\n",
    "---------"
   ]
  },
  {
   "cell_type": "code",
   "execution_count": null,
   "metadata": {},
   "outputs": [],
   "source": []
  },
  {
   "cell_type": "markdown",
   "metadata": {},
   "source": [
    "## 1. Reporte de indicadores económicos de Chile.\n",
    "\n",
    "La API **MindicadorChile** es un servicio open source (web service) que entrega los principales indicadores económicos para Chile en formato JSON. Tanto los indicadores diarios como históricos para que desarrolladores puedan utilizarlos en sus aplicaciones o sitios web.\n",
    "\n",
    "La aplicación mapea constantemente el sitio del Banco Central de Chile manteniendo así nuestra base de datos actualizada con los últimos valores del día. Toda la documentación de la API está disponible en la dirección https://mindicador.cl/.\n",
    "\n",
    "En este ejercicio, ud. deberá utilizar la API para compilar datos para un análisis de la evolución de la economía chilena en los años 2019, 2020 y 2021, de manera de evaluar el impacto del estallido social y la pandemia.\n",
    "\n",
    "**Revise cuisadosamente la página y documentación de la API**, y luego desarrolle los siguientes problemas:\n",
    "\n",
    "**1.1.** Use la API para obtener los valores de siguientes indicadores entre el 1 de enero de 2019, y el 30 de septiembre de 2021: Dólar observado, tasa de desempleo, libra de cobre, índice de precios al consumidor.\n",
    "\n",
    "**1.2.** Para cada indicador, genere un único DataFrame que contenga las siguientes columnas: `fecha, valor`. El DataFrame debe incluir todos los reportes disponibles para dicho indicador en el rango de fechas indicado, y las fechas deben estar en orden cronológico. Para ello, le pueden ser de utilidad las siguientes funciones de `pandas`: `pd.to_datetime()`,`DataFrame.sort_values()`. \n",
    "\n",
    "**1.3.** Genere una figura con cuatro paneles o subplots. En cada uno de ellos, grafique la serie de tiempo de los indicadores analizados, siguiendo las reglas básicas de formato de gráficos (ejes, títulos, etiquetas, etc.). A continuación se muestra un ejemplo de la figura a generar:<br>\n"
   ]
  },
  {
   "cell_type": "markdown",
   "metadata": {},
   "source": [
    "<div>\n",
    "<img src=\"figures/fig_1.png\" width=\"500\"/>\n",
    "</div>"
   ]
  },
  {
   "cell_type": "markdown",
   "metadata": {},
   "source": [
    "## 2. Terremotos alrededor del mundo (USGS)\n",
    "\n",
    "El Servicio Geológico de los Estados Unidos o USGS por sus siglas en inglés (United States Geological Survey), es una agencia científica del gobierno federal de los Estados Unidos, dedicada al estudio del medio ambiente y ecosistemas, recursos naturales, amenazas del cambio climático y peligros naturales que pueden afectar a las personas. \n",
    "\n",
    "El USGS es una institución líder a nivel mundial en sismología, y a través del programa *Earthquake Hazards* (https://earthquake.usgs.gov/) se ocupa de monitorear y reportar eventos sísmicos, evaluar la amenaza e impacto de terremotos, e investigar sobre sus causas y efectos. Dentro de sus múltiples herramientas y plataformas de información, cuenta con una API que entrega información en tiempo real de los sismos registrados alrededor del mundo:\n",
    "\n",
    "https://earthquake.usgs.gov/fdsnws/event/1/?ref=springboard\n",
    "\n",
    "En este ejericio, ud. extraerá data del USGS para analizar y visualizar la ocurrencia de terremotos de gran magnitud alrededor del mundo en las últimas dos décadas.\n",
    "\n",
    "**2.1.** Usando la API del USGS, obtenga el listado de sismos de **magnitud mayor a 7** ocurridos en todo el mundo, desde el 1 de enero de 2000 a la fecha. Puede elegir el formato de respuesta de su preferencia. Consdiere que el formato GeoJSON es similar a JSON, sólo que en uno de sus campos incluye información de coordenadas geográficas.\n",
    "\n",
    "**2.2.** Convierta los datos extraídos en un DataFrame con la siguiente estructura:\n",
    "\n",
    "<div>\n",
    "<img src=\"figures/fig_2.png\" width=\"600\"/>\n",
    "</div>\n",
    "\n",
    "**2.3.** Utilizando los datos de latitud y longitud de cada terremoto, convierta su DataFrame en un GeoDataFrame con geometrías tipo 'POINT'.\n",
    "\n",
    "**2.4.** Descargue un conjunto de datos vectorial con la geometría (polígonos) de los continentes y países del mundo. Por ejemplo, puede encontrar estos datos en el portal del Banco Mundial:\n",
    "\n",
    "https://datacatalog.worldbank.org/dataset/world-bank-official-boundaries\n",
    "\n",
    "Elija cualquiera de los datasets disponibles (siempre que le sirva para generar un mapa del mundo), e implemente su **descarga y lectura directamente desde su código de Python**.  \n",
    "\n",
    "**2.5.** Utilizando los datos de sismos y la capa vectorial descargada, genere un mapa del mundo que incluya: polígonos de continentes y/o países del mundo, y la ubicación y magnitud de los sismos registrados en la base de datos del USGS. Grafique las magnitudes como escala de colores."
   ]
  },
  {
   "cell_type": "markdown",
   "metadata": {},
   "source": [
    "## 3. Webscrapping\n",
    "\n",
    "Suponga que ud. ha decidido crear un emprendimiento comercial vendiendo tablets, ya que actualmente que son un producto muy demandado para el teletrabajo. Para ello, necesita hacer un estudio de mercado y analizar los precios de venta de la competencia.\n",
    "\n",
    "En este ejercicio, ud. hará un scrapper de la página de la tienda PCFactory, específicamente del catálogo de tablets ubicado en la siguiente URL: https://www.pcfactory.cl/tablets?categoria=967&papa=636.\n",
    "\n",
    "**3.1** Analice cuidadosamente el código HTML de la página y determine: ¿qué tag o atributo permite identificar el listado de productos con sus respectivas características (nombre, marca, precio)?\n",
    "\n",
    "**3.2** Obtenga el código web de la página y extraiga la información de interés, de manera de llegar a un DataFrame con la siguiente estructura:\n",
    "\n",
    "<div>\n",
    "<img src=\"figures/fig_3.png\" width=\"500\"/>\n",
    "</div>\n",
    "\n",
    "\n",
    "Note que existen dos páginas de resultados, el objetivo es extraer los datos de ambas páginas."
   ]
  },
  {
   "cell_type": "code",
   "execution_count": null,
   "metadata": {},
   "outputs": [],
   "source": []
  }
 ],
 "metadata": {
  "kernelspec": {
   "display_name": "Python 3",
   "language": "python",
   "name": "python3"
  },
  "language_info": {
   "codemirror_mode": {
    "name": "ipython",
    "version": 3
   },
   "file_extension": ".py",
   "mimetype": "text/x-python",
   "name": "python",
   "nbconvert_exporter": "python",
   "pygments_lexer": "ipython3",
   "version": "3.7.4"
  }
 },
 "nbformat": 4,
 "nbformat_minor": 2
}
